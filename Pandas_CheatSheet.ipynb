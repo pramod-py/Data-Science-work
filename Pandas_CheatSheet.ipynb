{
  "nbformat": 4,
  "nbformat_minor": 0,
  "metadata": {
    "colab": {
      "name": "Pandas_CheatSheet",
      "provenance": [],
      "collapsed_sections": [],
      "include_colab_link": true
    },
    "kernelspec": {
      "name": "python3",
      "display_name": "Python 3"
    }
  },
  "cells": [
    {
      "cell_type": "markdown",
      "metadata": {
        "id": "view-in-github",
        "colab_type": "text"
      },
      "source": [
        "<a href=\"https://colab.research.google.com/github/pramod-sanghavi/Data-Science-work/blob/master/Pandas_CheatSheet.ipynb\" target=\"_parent\"><img src=\"https://colab.research.google.com/assets/colab-badge.svg\" alt=\"Open In Colab\"/></a>"
      ]
    },
    {
      "cell_type": "markdown",
      "metadata": {
        "id": "aws9FqTNljiw",
        "colab_type": "text"
      },
      "source": [
        "# Pandas Cheat Sheet "
      ]
    },
    {
      "cell_type": "code",
      "metadata": {
        "id": "h-uy2aw9kn7F",
        "colab_type": "code",
        "colab": {}
      },
      "source": [
        "#dependency  \n",
        "import pandas as pd #here pd is an alias "
      ],
      "execution_count": 17,
      "outputs": []
    },
    {
      "cell_type": "code",
      "metadata": {
        "id": "JqDg-gt2kvcb",
        "colab_type": "code",
        "colab": {
          "base_uri": "https://localhost:8080/",
          "height": 159
        },
        "outputId": "0b0904b3-711a-42f5-c061-6c0d1cfd7ebf"
      },
      "source": [
        "'''\n",
        "What is Series?\n",
        "Series is a 1d array capable of holding elements of heterogenous data types\n",
        "''' \n",
        "series=pd.Series([1,2,3,4],index=['a','b','c','d'])\n",
        "print(series)\n",
        "#series=pd.Series([1,2,3,4])\n",
        "#print(series) #default of index is 0 to n-1\n",
        "print(series[:2]) #slicing in series"
      ],
      "execution_count": 3,
      "outputs": [
        {
          "output_type": "stream",
          "text": [
            "a    1\n",
            "b    2\n",
            "c    3\n",
            "d    4\n",
            "dtype: int64\n",
            "a    1\n",
            "b    2\n",
            "dtype: int64\n"
          ],
          "name": "stdout"
        }
      ]
    },
    {
      "cell_type": "code",
      "metadata": {
        "id": "eSe2faCdkvZE",
        "colab_type": "code",
        "colab": {
          "base_uri": "https://localhost:8080/",
          "height": 88
        },
        "outputId": "0c7249ab-42ed-4061-959d-dbcbf4a3ad0e"
      },
      "source": [
        "'''\n",
        "What is Data Frame?\n",
        "It is a 2D data structure where one is denoted as columns and other as rows.\n",
        "Each column can have different data types\n",
        "\n",
        "'''\n",
        "confidential_data={\n",
        "    'Country':['Nepal','India','Srilanka'],\n",
        "    'Name':['Binod','Vinod','Ravan'],\n",
        "    'Marks':[25,35,45]\n",
        "}\n",
        "data=pd.DataFrame(confidential_data)\n",
        "print(data)"
      ],
      "execution_count": 18,
      "outputs": [
        {
          "output_type": "stream",
          "text": [
            "    Country   Name  Marks\n",
            "0     Nepal  Binod     25\n",
            "1     India  Vinod     35\n",
            "2  Srilanka  Ravan     45\n"
          ],
          "name": "stdout"
        }
      ]
    },
    {
      "cell_type": "code",
      "metadata": {
        "id": "96IXuf94kvWo",
        "colab_type": "code",
        "colab": {}
      },
      "source": [
        "#converting a data frame to csv\n",
        "data.to_csv('dataframe.csv')"
      ],
      "execution_count": 19,
      "outputs": []
    },
    {
      "cell_type": "code",
      "metadata": {
        "id": "jn_tkx1UkvT5",
        "colab_type": "code",
        "colab": {
          "base_uri": "https://localhost:8080/",
          "height": 88
        },
        "outputId": "6f54aafd-c056-4513-e01a-0d20cdea8f09"
      },
      "source": [
        "#reading data from csv file\n",
        "df=pd.read_csv('dataframe.csv')\n",
        "print(df)"
      ],
      "execution_count": 20,
      "outputs": [
        {
          "output_type": "stream",
          "text": [
            "   Unnamed: 0   Country   Name  Marks\n",
            "0           0     Nepal  Binod     25\n",
            "1           1     India  Vinod     35\n",
            "2           2  Srilanka  Ravan     45\n"
          ],
          "name": "stdout"
        }
      ]
    },
    {
      "cell_type": "code",
      "metadata": {
        "id": "Q9tn3dJQJjoQ",
        "colab_type": "code",
        "colab": {
          "base_uri": "https://localhost:8080/",
          "height": 88
        },
        "outputId": "782d8726-6c48-4ba3-ca0b-f190aaaa192d"
      },
      "source": [
        "#Slicing data\n",
        "df=df.iloc[:,1:]\n",
        "print(df)"
      ],
      "execution_count": 21,
      "outputs": [
        {
          "output_type": "stream",
          "text": [
            "    Country   Name  Marks\n",
            "0     Nepal  Binod     25\n",
            "1     India  Vinod     35\n",
            "2  Srilanka  Ravan     45\n"
          ],
          "name": "stdout"
        }
      ]
    },
    {
      "cell_type": "code",
      "metadata": {
        "id": "X2v6nlMDIlJs",
        "colab_type": "code",
        "colab": {
          "base_uri": "https://localhost:8080/",
          "height": 124
        },
        "outputId": "ae5801a3-a61b-49c5-c0e8-7dd4c5012b49"
      },
      "source": [
        "print('\\nSecond row:\\n',df.iloc[1]) #printing the first row"
      ],
      "execution_count": 22,
      "outputs": [
        {
          "output_type": "stream",
          "text": [
            "\n",
            "Second row:\n",
            " Country    India\n",
            "Name       Vinod\n",
            "Marks         35\n",
            "Name: 1, dtype: object\n"
          ],
          "name": "stdout"
        }
      ]
    },
    {
      "cell_type": "code",
      "metadata": {
        "id": "tjxQqbmHIlGp",
        "colab_type": "code",
        "colab": {
          "base_uri": "https://localhost:8080/",
          "height": 124
        },
        "outputId": "430558e8-9b33-43a6-bac5-c3c905c97e39"
      },
      "source": [
        "print('\\nFirst col:\\n',df.iloc[:,0])"
      ],
      "execution_count": 23,
      "outputs": [
        {
          "output_type": "stream",
          "text": [
            "\n",
            "First col:\n",
            " 0       Nepal\n",
            "1       India\n",
            "2    Srilanka\n",
            "Name: Country, dtype: object\n"
          ],
          "name": "stdout"
        }
      ]
    },
    {
      "cell_type": "code",
      "metadata": {
        "id": "5AjbbppNI7Gd",
        "colab_type": "code",
        "colab": {
          "base_uri": "https://localhost:8080/",
          "height": 88
        },
        "outputId": "028bf672-778c-422b-acf6-addb5a2da97e"
      },
      "source": [
        "#adding a col to our data frame\n",
        "df['id']=[1,2,3]\n",
        "print(df)"
      ],
      "execution_count": 24,
      "outputs": [
        {
          "output_type": "stream",
          "text": [
            "    Country   Name  Marks  id\n",
            "0     Nepal  Binod     25   1\n",
            "1     India  Vinod     35   2\n",
            "2  Srilanka  Ravan     45   3\n"
          ],
          "name": "stdout"
        }
      ]
    },
    {
      "cell_type": "code",
      "metadata": {
        "id": "dM9qdITnV_-F",
        "colab_type": "code",
        "colab": {
          "base_uri": "https://localhost:8080/",
          "height": 106
        },
        "outputId": "6fe9a02d-18d6-422c-d665-c2013e5fd650"
      },
      "source": [
        "#adding a row to our dataframe\n",
        "row4={'Country':'USA','Name':'John','Marks':50,'id':5}\n",
        "#print(df)\n",
        "df1=df.append(row4,ignore_index=True)\n",
        "print(df1)\n",
        "#df.iloc[4,:].append(row4)"
      ],
      "execution_count": 25,
      "outputs": [
        {
          "output_type": "stream",
          "text": [
            "    Country   Name  Marks  id\n",
            "0     Nepal  Binod     25   1\n",
            "1     India  Vinod     35   2\n",
            "2  Srilanka  Ravan     45   3\n",
            "3       USA   John     50   5\n"
          ],
          "name": "stdout"
        }
      ]
    },
    {
      "cell_type": "code",
      "metadata": {
        "id": "Ym8-uTVGKM9n",
        "colab_type": "code",
        "colab": {}
      },
      "source": [
        "#re writing a row\n",
        "df1.iloc[2,:]=['India','Good boy',55,4]"
      ],
      "execution_count": 26,
      "outputs": []
    },
    {
      "cell_type": "code",
      "metadata": {
        "id": "DBKzkrjSKuod",
        "colab_type": "code",
        "colab": {
          "base_uri": "https://localhost:8080/",
          "height": 106
        },
        "outputId": "eb544f00-a5ee-477f-c358-0f18c4cf9f0c"
      },
      "source": [
        "print(df1)"
      ],
      "execution_count": 27,
      "outputs": [
        {
          "output_type": "stream",
          "text": [
            "  Country      Name  Marks  id\n",
            "0   Nepal     Binod     25   1\n",
            "1   India     Vinod     35   2\n",
            "2   India  Good boy     55   4\n",
            "3     USA      John     50   5\n"
          ],
          "name": "stdout"
        }
      ]
    },
    {
      "cell_type": "code",
      "metadata": {
        "id": "VDNPJX4PZc1u",
        "colab_type": "code",
        "colab": {
          "base_uri": "https://localhost:8080/",
          "height": 88
        },
        "outputId": "ca88256f-a7e4-4fab-f039-96c10fdaf0d1"
      },
      "source": [
        "#printing the shape of the data frame\n",
        "print('Shape is :',df1.shape)\n",
        "\n",
        "#to print the cols of the dataframe\n",
        "print('Cols are:',df1.columns)\n",
        "\n",
        "#to find the total number of rows \n",
        "print('Total rows are:',len(df1.index))\n",
        "#find the total no of cols \n",
        "print('Total cols are:',len(df1.columns)) \n",
        "#well you could have figured the no of rows and cols by seeing the shape itself."
      ],
      "execution_count": 28,
      "outputs": [
        {
          "output_type": "stream",
          "text": [
            "Shape is : (4, 4)\n",
            "Cols are: Index(['Country', 'Name', 'Marks', 'id'], dtype='object')\n",
            "Total rows are: 4\n",
            "Total cols are: 4\n"
          ],
          "name": "stdout"
        }
      ]
    },
    {
      "cell_type": "code",
      "metadata": {
        "id": "oRALj9JDKuk5",
        "colab_type": "code",
        "colab": {}
      },
      "source": [
        "#printing the sum of a specific row\n",
        "print('Total marks of all students',df1['Marks'].sum()) \n",
        "\n",
        "#printing the max value from marks\n",
        "print('\\nMax marks are:',df1['Marks'].max()) #the same's for min()\n",
        "\n",
        "#to describe the data frame as whole\n",
        "print('\\nDescribing data frame\\n',df1.describe()) \n",
        "#so it will only show the statistical details of the cols with non string values."
      ],
      "execution_count": null,
      "outputs": []
    },
    {
      "cell_type": "code",
      "metadata": {
        "id": "o_y91OWSZRj8",
        "colab_type": "code",
        "colab": {}
      },
      "source": [
        ""
      ],
      "execution_count": null,
      "outputs": []
    },
    {
      "cell_type": "code",
      "metadata": {
        "id": "ZBP6myB4ZRRT",
        "colab_type": "code",
        "colab": {}
      },
      "source": [
        ""
      ],
      "execution_count": null,
      "outputs": []
    },
    {
      "cell_type": "code",
      "metadata": {
        "id": "toDIaNvTaKM3",
        "colab_type": "code",
        "colab": {}
      },
      "source": [
        ""
      ],
      "execution_count": null,
      "outputs": []
    },
    {
      "cell_type": "code",
      "metadata": {
        "id": "hgofDQr9aKJX",
        "colab_type": "code",
        "colab": {}
      },
      "source": [
        ""
      ],
      "execution_count": null,
      "outputs": []
    }
  ]
}