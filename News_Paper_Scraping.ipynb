{
  "nbformat": 4,
  "nbformat_minor": 0,
  "metadata": {
    "colab": {
      "name": "News Paper Scraping.ipynb",
      "provenance": [],
      "authorship_tag": "ABX9TyOw+lPfdgdlV/h5PW/ovVPy",
      "include_colab_link": true
    },
    "kernelspec": {
      "name": "python3",
      "display_name": "Python 3"
    }
  },
  "cells": [
    {
      "cell_type": "markdown",
      "metadata": {
        "id": "view-in-github",
        "colab_type": "text"
      },
      "source": [
        "<a href=\"https://colab.research.google.com/github/pramod-sanghavi/Data-Science-work/blob/master/News_Paper_Scraping.ipynb\" target=\"_parent\"><img src=\"https://colab.research.google.com/assets/colab-badge.svg\" alt=\"Open In Colab\"/></a>"
      ]
    },
    {
      "cell_type": "code",
      "metadata": {
        "id": "JGVkD8Wgx5Zd",
        "colab_type": "code",
        "colab": {}
      },
      "source": [
        "# program for scrap and summarizes news paper"
      ],
      "execution_count": 6,
      "outputs": []
    },
    {
      "cell_type": "code",
      "metadata": {
        "id": "rd45vpxUyFwF",
        "colab_type": "code",
        "colab": {
          "base_uri": "https://localhost:8080/",
          "height": 908
        },
        "outputId": "cdc552b6-2b2b-4c0c-e3cc-cfe6d2795bf2"
      },
      "source": [
        "pip install newspaper3k"
      ],
      "execution_count": 7,
      "outputs": [
        {
          "output_type": "stream",
          "text": [
            "Collecting newspaper3k\n",
            "\u001b[?25l  Downloading https://files.pythonhosted.org/packages/d7/b9/51afecb35bb61b188a4b44868001de348a0e8134b4dfa00ffc191567c4b9/newspaper3k-0.2.8-py3-none-any.whl (211kB)\n",
            "\r\u001b[K     |█▌                              | 10kB 12.8MB/s eta 0:00:01\r\u001b[K     |███                             | 20kB 2.2MB/s eta 0:00:01\r\u001b[K     |████▋                           | 30kB 2.9MB/s eta 0:00:01\r\u001b[K     |██████▏                         | 40kB 3.1MB/s eta 0:00:01\r\u001b[K     |███████▊                        | 51kB 2.5MB/s eta 0:00:01\r\u001b[K     |█████████▎                      | 61kB 2.8MB/s eta 0:00:01\r\u001b[K     |██████████▉                     | 71kB 3.1MB/s eta 0:00:01\r\u001b[K     |████████████▍                   | 81kB 3.3MB/s eta 0:00:01\r\u001b[K     |██████████████                  | 92kB 3.5MB/s eta 0:00:01\r\u001b[K     |███████████████▌                | 102kB 3.4MB/s eta 0:00:01\r\u001b[K     |█████████████████               | 112kB 3.4MB/s eta 0:00:01\r\u001b[K     |██████████████████▋             | 122kB 3.4MB/s eta 0:00:01\r\u001b[K     |████████████████████▏           | 133kB 3.4MB/s eta 0:00:01\r\u001b[K     |█████████████████████▊          | 143kB 3.4MB/s eta 0:00:01\r\u001b[K     |███████████████████████▎        | 153kB 3.4MB/s eta 0:00:01\r\u001b[K     |████████████████████████▉       | 163kB 3.4MB/s eta 0:00:01\r\u001b[K     |██████████████████████████▍     | 174kB 3.4MB/s eta 0:00:01\r\u001b[K     |████████████████████████████    | 184kB 3.4MB/s eta 0:00:01\r\u001b[K     |█████████████████████████████▌  | 194kB 3.4MB/s eta 0:00:01\r\u001b[K     |███████████████████████████████ | 204kB 3.4MB/s eta 0:00:01\r\u001b[K     |████████████████████████████████| 215kB 3.4MB/s \n",
            "\u001b[?25hRequirement already satisfied: Pillow>=3.3.0 in /usr/local/lib/python3.6/dist-packages (from newspaper3k) (7.0.0)\n",
            "Collecting jieba3k>=0.35.1\n",
            "\u001b[?25l  Downloading https://files.pythonhosted.org/packages/a9/cb/2c8332bcdc14d33b0bedd18ae0a4981a069c3513e445120da3c3f23a8aaa/jieba3k-0.35.1.zip (7.4MB)\n",
            "\u001b[K     |████████████████████████████████| 7.4MB 11.2MB/s \n",
            "\u001b[?25hCollecting feedfinder2>=0.0.4\n",
            "  Downloading https://files.pythonhosted.org/packages/35/82/1251fefec3bb4b03fd966c7e7f7a41c9fc2bb00d823a34c13f847fd61406/feedfinder2-0.0.4.tar.gz\n",
            "Collecting feedparser>=5.2.1\n",
            "\u001b[?25l  Downloading https://files.pythonhosted.org/packages/91/d8/7d37fec71ff7c9dbcdd80d2b48bcdd86d6af502156fc93846fb0102cb2c4/feedparser-5.2.1.tar.bz2 (192kB)\n",
            "\u001b[K     |████████████████████████████████| 194kB 35.7MB/s \n",
            "\u001b[?25hRequirement already satisfied: requests>=2.10.0 in /usr/local/lib/python3.6/dist-packages (from newspaper3k) (2.23.0)\n",
            "Requirement already satisfied: lxml>=3.6.0 in /usr/local/lib/python3.6/dist-packages (from newspaper3k) (4.2.6)\n",
            "Collecting cssselect>=0.9.2\n",
            "  Downloading https://files.pythonhosted.org/packages/3b/d4/3b5c17f00cce85b9a1e6f91096e1cc8e8ede2e1be8e96b87ce1ed09e92c5/cssselect-1.1.0-py2.py3-none-any.whl\n",
            "Collecting tldextract>=2.0.1\n",
            "\u001b[?25l  Downloading https://files.pythonhosted.org/packages/fd/0e/9ab599d6e78f0340bb1d1e28ddeacb38c8bb7f91a1b0eae9a24e9603782f/tldextract-2.2.2-py2.py3-none-any.whl (48kB)\n",
            "\u001b[K     |████████████████████████████████| 51kB 5.3MB/s \n",
            "\u001b[?25hRequirement already satisfied: python-dateutil>=2.5.3 in /usr/local/lib/python3.6/dist-packages (from newspaper3k) (2.8.1)\n",
            "Collecting tinysegmenter==0.3\n",
            "  Downloading https://files.pythonhosted.org/packages/17/82/86982e4b6d16e4febc79c2a1d68ee3b707e8a020c5d2bc4af8052d0f136a/tinysegmenter-0.3.tar.gz\n",
            "Requirement already satisfied: nltk>=3.2.1 in /usr/local/lib/python3.6/dist-packages (from newspaper3k) (3.2.5)\n",
            "Requirement already satisfied: PyYAML>=3.11 in /usr/local/lib/python3.6/dist-packages (from newspaper3k) (3.13)\n",
            "Requirement already satisfied: beautifulsoup4>=4.4.1 in /usr/local/lib/python3.6/dist-packages (from newspaper3k) (4.6.3)\n",
            "Requirement already satisfied: six in /usr/local/lib/python3.6/dist-packages (from feedfinder2>=0.0.4->newspaper3k) (1.15.0)\n",
            "Requirement already satisfied: certifi>=2017.4.17 in /usr/local/lib/python3.6/dist-packages (from requests>=2.10.0->newspaper3k) (2020.6.20)\n",
            "Requirement already satisfied: idna<3,>=2.5 in /usr/local/lib/python3.6/dist-packages (from requests>=2.10.0->newspaper3k) (2.10)\n",
            "Requirement already satisfied: urllib3!=1.25.0,!=1.25.1,<1.26,>=1.21.1 in /usr/local/lib/python3.6/dist-packages (from requests>=2.10.0->newspaper3k) (1.24.3)\n",
            "Requirement already satisfied: chardet<4,>=3.0.2 in /usr/local/lib/python3.6/dist-packages (from requests>=2.10.0->newspaper3k) (3.0.4)\n",
            "Collecting requests-file>=1.4\n",
            "  Downloading https://files.pythonhosted.org/packages/77/86/cdb5e8eaed90796aa83a6d9f75cfbd37af553c47a291cd47bc410ef9bdb2/requests_file-1.5.1-py2.py3-none-any.whl\n",
            "Requirement already satisfied: setuptools in /usr/local/lib/python3.6/dist-packages (from tldextract>=2.0.1->newspaper3k) (49.2.0)\n",
            "Building wheels for collected packages: jieba3k, feedfinder2, feedparser, tinysegmenter\n",
            "  Building wheel for jieba3k (setup.py) ... \u001b[?25l\u001b[?25hdone\n",
            "  Created wheel for jieba3k: filename=jieba3k-0.35.1-cp36-none-any.whl size=7398406 sha256=daf2916e6040f3de625a658f69e13203b128b6028dc32d68945534e808a03183\n",
            "  Stored in directory: /root/.cache/pip/wheels/83/15/9c/a3f1f67e7f7181170ad37d32e503c35da20627c013f438ed34\n",
            "  Building wheel for feedfinder2 (setup.py) ... \u001b[?25l\u001b[?25hdone\n",
            "  Created wheel for feedfinder2: filename=feedfinder2-0.0.4-cp36-none-any.whl size=3357 sha256=ee40b5e7d2a0e3741ec895e9c4761bffd4caa77c1b393d022a62a4faaba69c4d\n",
            "  Stored in directory: /root/.cache/pip/wheels/de/03/ca/778e3a7a627e3d98836cc890e7cb40c7575424cfd3340f40ed\n",
            "  Building wheel for feedparser (setup.py) ... \u001b[?25l\u001b[?25hdone\n",
            "  Created wheel for feedparser: filename=feedparser-5.2.1-cp36-none-any.whl size=44940 sha256=413f443107da9851144749d90e7df5b9625b76071ab4005fd33315e48755676d\n",
            "  Stored in directory: /root/.cache/pip/wheels/8c/69/b7/f52763c41c5471df57703a0ef718a32a5e81ee35dcf6d4f97f\n",
            "  Building wheel for tinysegmenter (setup.py) ... \u001b[?25l\u001b[?25hdone\n",
            "  Created wheel for tinysegmenter: filename=tinysegmenter-0.3-cp36-none-any.whl size=13539 sha256=dbb375db7595c119c612b9932007b1f7913e91acb686794bbf4bed598fc1b390\n",
            "  Stored in directory: /root/.cache/pip/wheels/81/2b/43/a02ede72324dd40cdd7ca53aad718c7710628e91b8b0dc0f02\n",
            "Successfully built jieba3k feedfinder2 feedparser tinysegmenter\n",
            "Installing collected packages: jieba3k, feedfinder2, feedparser, cssselect, requests-file, tldextract, tinysegmenter, newspaper3k\n",
            "Successfully installed cssselect-1.1.0 feedfinder2-0.0.4 feedparser-5.2.1 jieba3k-0.35.1 newspaper3k-0.2.8 requests-file-1.5.1 tinysegmenter-0.3 tldextract-2.2.2\n"
          ],
          "name": "stdout"
        }
      ]
    },
    {
      "cell_type": "code",
      "metadata": {
        "id": "rGXQYn5Ix8Ej",
        "colab_type": "code",
        "colab": {
          "base_uri": "https://localhost:8080/",
          "height": 52
        },
        "outputId": "118f2e2d-8723-45a5-ad4c-c956273077a1"
      },
      "source": [
        "pip install nltk"
      ],
      "execution_count": 8,
      "outputs": [
        {
          "output_type": "stream",
          "text": [
            "Requirement already satisfied: nltk in /usr/local/lib/python3.6/dist-packages (3.2.5)\n",
            "Requirement already satisfied: six in /usr/local/lib/python3.6/dist-packages (from nltk) (1.15.0)\n"
          ],
          "name": "stdout"
        }
      ]
    },
    {
      "cell_type": "code",
      "metadata": {
        "id": "Yr_775XW6tsH",
        "colab_type": "code",
        "colab": {}
      },
      "source": [
        "import nltk\n",
        "from newspaper import Article"
      ],
      "execution_count": 9,
      "outputs": []
    },
    {
      "cell_type": "code",
      "metadata": {
        "id": "1Ay-YXbU6zgK",
        "colab_type": "code",
        "colab": {}
      },
      "source": [
        "#get the url\n",
        "url=\"https://www.loksatta.com/mumbai-news/shivsenas-answer-to-amruta-fadanvis-tweet-which-was-on-sushant-sing-rajput-and-mumbai-police-scj-81-2235571/\"\n",
        "article=Article(url)"
      ],
      "execution_count": 19,
      "outputs": []
    },
    {
      "cell_type": "code",
      "metadata": {
        "id": "U-H8B4LR7bqt",
        "colab_type": "code",
        "colab": {
          "base_uri": "https://localhost:8080/",
          "height": 52
        },
        "outputId": "c79503a1-7757-4a02-e2ef-ec383b2e193d"
      },
      "source": [
        "#do some NLP\n",
        "article.download()\n",
        "article.parse()\n",
        "nltk.download('punkt')\n",
        "article.nlp()"
      ],
      "execution_count": 20,
      "outputs": [
        {
          "output_type": "stream",
          "text": [
            "[nltk_data] Downloading package punkt to /root/nltk_data...\n",
            "[nltk_data]   Package punkt is already up-to-date!\n"
          ],
          "name": "stdout"
        }
      ]
    },
    {
      "cell_type": "code",
      "metadata": {
        "id": "6dgq9MKp7mDP",
        "colab_type": "code",
        "colab": {
          "base_uri": "https://localhost:8080/",
          "height": 35
        },
        "outputId": "06245d1c-5601-4cdd-f3ab-0de5fe96ab9f"
      },
      "source": [
        "#get the author of article\n",
        "article.authors\n"
      ],
      "execution_count": 21,
      "outputs": [
        {
          "output_type": "execute_result",
          "data": {
            "text/plain": [
              "['ल कसत त', 'ऑनल इन']"
            ]
          },
          "metadata": {
            "tags": []
          },
          "execution_count": 21
        }
      ]
    },
    {
      "cell_type": "code",
      "metadata": {
        "id": "3gw2c1jZ7pIc",
        "colab_type": "code",
        "colab": {
          "base_uri": "https://localhost:8080/",
          "height": 35
        },
        "outputId": "e3dd7d8e-dc1d-4e47-8a31-398c7913d997"
      },
      "source": [
        "#get the publish date\n",
        "article.publish_date"
      ],
      "execution_count": 22,
      "outputs": [
        {
          "output_type": "execute_result",
          "data": {
            "text/plain": [
              "datetime.datetime(2020, 8, 3, 15, 44, 43, tzinfo=tzoffset(None, 19800))"
            ]
          },
          "metadata": {
            "tags": []
          },
          "execution_count": 22
        }
      ]
    },
    {
      "cell_type": "code",
      "metadata": {
        "id": "7N7KVvt28Jdt",
        "colab_type": "code",
        "colab": {
          "base_uri": "https://localhost:8080/",
          "height": 35
        },
        "outputId": "2ec06b21-903f-4f48-d94d-b7cfe5269adf"
      },
      "source": [
        "#get the top img of article\n",
        "article.top_image\n"
      ],
      "execution_count": 23,
      "outputs": [
        {
          "output_type": "execute_result",
          "data": {
            "application/vnd.google.colaboratory.intrinsic+json": {
              "type": "string"
            },
            "text/plain": [
              "'https://images.loksatta.com/2020/08/Amruta-and-Varun.jpg'"
            ]
          },
          "metadata": {
            "tags": []
          },
          "execution_count": 23
        }
      ]
    },
    {
      "cell_type": "code",
      "metadata": {
        "id": "Fa6xm7Fa8L62",
        "colab_type": "code",
        "colab": {
          "base_uri": "https://localhost:8080/",
          "height": 268
        },
        "outputId": "b2b693b8-0c13-4c32-d4b1-5da9c5e1fc6c"
      },
      "source": [
        "#get article text\n",
        "print(article.text)\n"
      ],
      "execution_count": 24,
      "outputs": [
        {
          "output_type": "stream",
          "text": [
            "विरोधी पक्षनेते देवेंद्र फडणवीस यांच्या पत्नी अमृता फडणवीस यांनी केलेल्या एका ट्विटवरुन शिवसेना आणि त्यांच्यात पुन्हा ट्विटर वॉर रंगलं आहे. सुशांतसिंह आत्महत्येचे प्रकरण हाताळण्यावरुन अमृता फडणवीस यांनी एक ट्विट केलंय. त्यावर आता शिवसेनेने प्रत्युत्तर दिलं आहे. “मॅडम तुम्ही आणि तुमचे कुटुंबीय मुंबई पोलिसांची सिक्युरिटी कव्हर घेऊन त्यांच्यावर इतके नीच आरोप करता? सोडून द्या की सिक्युरिटी कव्हर भरवसा नसेल तर!” असं म्हणत युवा सेनेचे सरचिटणीस वरुण सरदेसाई यांनी अमृता फडणवीस यांना उत्तर दिलंय.\n",
            "\n",
            "मॅडम, तुम्ही आणि तुमचे कुटुंबीय ह्याच मुंबई पोलिसांची Security Cover घेऊन त्यांच्यावर इतके नीच आरोप करता?? सोडून द्या की security cover भरोसा नसेल तर !! https://t.co/ITw8AKLN0P — Varun Sardesai (@SardesaiVarun) August 3, 2020\n",
            "\n",
            "अमृता फडणवीस यांनी काय ट्विट केलं होतं?\n",
            "\n",
            "“सुशांत सिंह राजपूत मृत्यू प्रकरणाचा तपास ज्या प्रकारे सुरू आहे, त्यावरून मला असं वाटतं की मुंबईने माणुसकी गमावली आहे. निर्दोष आणि स्वाभिमानी नागरिकांसाठी आता मुंबईत राहणं अजिबात सुरक्षित नाही”, असं ट्विट अमृता फडणवीस यांनी केलं आहे. या ट्विटमध्ये अमृता फडणवीस यांनी #JusticeforSushantSingRajput आणि #JusticeForDishaSalian हे दोन हॅशटॅगही ट्विट केले आहे.\n",
            "\n",
            "या ट्विटमध्ये त्यांनी मुंबई पोलिसांबाबत कुठेही उल्लेख केला नव्हता. मात्र आता युवा सेनेचे सरचिटणीस वरुण सरदेसाई यांनी अमृता फडणवीस यांना प्रत्युत्तर दिलं आहे. मॅडम, तुम्ही आणि तुमचे कुटुंबीय ह्याच मुंबई पोलिसांची Security Cover घेऊन त्यांच्यावर इतके नीच आरोप करता?? सोडून द्या की security cover भरोसा नसेल तर !! असं उत्तर वरुण सरदेसाई यांनी दिलं आहे.\n",
            "\n",
            "बॉलिवूड अभिनेता सुशात सिंह राजपूतच्या मृत्यू प्रकरणाची चौकशी करण्यासाठी पाटण्याहून मुंबईत आलेल्या आयपीएस अधिकाऱ्याला रविवारी रात्री मुंबई महापालिकेने क्वारंटाइन केलं. त्यावरून सोमवार सकाळपासून बरीच उलटसुलट चर्चा सुरू आहे. बिहारचे मुख्यमंत्री नितीश कुमार यांनी या प्रकरणाबाबत तीव्र नाराजी व्यक्त केली आहे. या प्रकरणात अमृता फडणवीस यांनी ट्विट करताच आता अमृता फडणवीस आणि शिवसेना यांच्यात ट्विटर वॉर रंगल्याचं चित्र आहे.\n",
            "\n",
            "First Published on August 3, 2020 3:44 pm\n"
          ],
          "name": "stdout"
        }
      ]
    },
    {
      "cell_type": "code",
      "metadata": {
        "id": "8nNLTePP8Ywx",
        "colab_type": "code",
        "colab": {
          "base_uri": "https://localhost:8080/",
          "height": 106
        },
        "outputId": "a569ea99-cfb0-4778-dc16-d5e4d5b3d4b0"
      },
      "source": [
        "#get a summery of article\n",
        "print(article.summary)"
      ],
      "execution_count": 25,
      "outputs": [
        {
          "output_type": "stream",
          "text": [
            "विरोधी पक्षनेते देवेंद्र फडणवीस यांच्या पत्नी अमृता फडणवीस यांनी केलेल्या एका ट्विटवरुन शिवसेना आणि त्यांच्यात पुन्हा ट्विटर वॉर रंगलं आहे.\n",
            "सोडून द्या की सिक्युरिटी कव्हर भरवसा नसेल तर!” असं म्हणत युवा सेनेचे सरचिटणीस वरुण सरदेसाई यांनी अमृता फडणवीस यांना उत्तर दिलंय.\n",
            "निर्दोष आणि स्वाभिमानी नागरिकांसाठी आता मुंबईत राहणं अजिबात सुरक्षित नाही”, असं ट्विट अमृता फडणवीस यांनी केलं आहे.\n",
            "मात्र आता युवा सेनेचे सरचिटणीस वरुण सरदेसाई यांनी अमृता फडणवीस यांना प्रत्युत्तर दिलं आहे.\n",
            "या प्रकरणात अमृता फडणवीस यांनी ट्विट करताच आता अमृता फडणवीस आणि शिवसेना यांच्यात ट्विटर वॉर रंगल्याचं चित्र आहे.\n"
          ],
          "name": "stdout"
        }
      ]
    },
    {
      "cell_type": "code",
      "metadata": {
        "id": "XjWQqkea8bTy",
        "colab_type": "code",
        "colab": {
          "base_uri": "https://localhost:8080/",
          "height": 55
        },
        "outputId": "1ad31ebd-4faf-4d06-dee3-4d38156a1eff"
      },
      "source": [
        "#Article Keywords\n",
        "print(article.keywords)"
      ],
      "execution_count": 26,
      "outputs": [
        {
          "output_type": "stream",
          "text": [
            "['क', 'आह', 'शवसनच', 'पलस', 'सरकष', 'अमत', 'आण', 'तर', 'नसल', 'कल', 'यन', 'टवट', 'सडन', 'उततर', 'आत', 'दय', 'वशवस', 'फडणवस', 'मबई', 'फडणवसन']\n"
          ],
          "name": "stdout"
        }
      ]
    },
    {
      "cell_type": "code",
      "metadata": {
        "id": "ur-yn55a96vU",
        "colab_type": "code",
        "colab": {}
      },
      "source": [
        ""
      ],
      "execution_count": null,
      "outputs": []
    }
  ]
}