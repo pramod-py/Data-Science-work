{
 "cells": [
  {
   "cell_type": "markdown",
   "metadata": {},
   "source": []
  },
  {
   "cell_type": "markdown",
   "metadata": {},
   "source": [
    "# <span style=\"background:orange\">Heading</span><br />"
   ]
  },
  {
   "cell_type": "markdown",
   "metadata": {},
   "source": [
    "# Heading 1\n",
    "## Heading 2\n",
    "### Heading 3\n",
    "#### Heading 4\n",
    "##### Heading 5\n",
    "###### Heading 6"
   ]
  },
  {
   "cell_type": "markdown",
   "metadata": {},
   "source": [
    "<h1>Header 1 <h1>\n",
    "<h2>Header 2 <h2>\n",
    "<h3>Header 3 <h3>\n",
    "<h4>Header 4 <h4>\n",
    "<h5>Header 5 <h5>\n",
    "<h6>Header 6 <h6>"
   ]
  },
  {
   "cell_type": "markdown",
   "metadata": {},
   "source": [
    "# <span style=\"background:orange\">Style and Variation(Bold, Italic text, Background)</span><br />"
   ]
  },
  {
   "cell_type": "markdown",
   "metadata": {},
   "source": [
    "# <span style=\"color:red\">Red Test.</span><br />\n",
    "*This is italic style*<br />\n",
    "_This is also italic style._<br />\n",
    "**This is boldic **<br />\n",
    "__This is also boldic.__<br />\n",
    "~~This is cancellation~~<br />\n",
    "<span style=\"background:blue\">Blue Text.</span><br />\n",
    "<span style=\"color:#92B337\" > What Color.</span><br />\n",
    "## <span style='font-family:Georgia'> It is Georgia font.\n",
    "<span style='font-family:\"Times New Roman\"'> <span styel=''>It is \"Times New Roman\" font."
   ]
  },
  {
   "cell_type": "markdown",
   "metadata": {},
   "source": [
    "# <span style=\"background:orange\">Enumerated List</span><br />"
   ]
  },
  {
   "cell_type": "markdown",
   "metadata": {},
   "source": [
    "1. First \n",
    "    1. First one\n",
    "    2. First two\n",
    "2. Main list <br>\n",
    "a. Sub-list <br>\n",
    "b. sub list \n",
    "3. Main list\n",
    "* main list \n",
    "* A\n",
    "  * B\n",
    "    * C\n",
    "+ A\n",
    "  + B\n",
    "    + C\n",
    "- A\n",
    "  - B\n",
    "    - C"
   ]
  },
  {
   "cell_type": "markdown",
   "metadata": {},
   "source": [
    "<ol>\n",
    "<li>Fish</li>\n",
    "<li>Eggs</li>\n",
    "<li>Cheese</li>\n",
    "</ol>\n",
    "<ul>\n",
    "<li>Fish</li>\n",
    "<li>Eggs</li>\n",
    "<li>Cheese</li>\n",
    "</ul>"
   ]
  },
  {
   "cell_type": "markdown",
   "metadata": {},
   "source": [
    "# <span style=\"background:orange\">Internal & External Link (Hyperlink)</span><br />"
   ]
  },
  {
   "cell_type": "markdown",
   "metadata": {},
   "source": [
    "<a> https://www.google.com </a> <br>\n",
    "<a href=\"http://www.google.com\">Google</a><br>\n",
    "http://towardsadatascience.com<br>\n",
    "[Google](https://www.google.com)<br>\n",
    "<a id =integer> </a> \n",
    "[Ajay](#integer)"
   ]
  },
  {
   "cell_type": "markdown",
   "metadata": {},
   "source": [
    "# <span style=\"background:orange\">Table</span><br />"
   ]
  },
  {
   "cell_type": "markdown",
   "metadata": {},
   "source": [
    "| First Header  | Second Header |\n",
    "| ------------- | ------------- |\n",
    "| Content Cell  | Content Cell  |\n",
    "| Content Cell  | Content Cell  |\n",
    "\n",
    "|Name|Description|\n",
    "|:|:|\n",
    "|Sandhya | She is very nice but not up to the mark|\n",
    "|Ajay | He is a very bad boy.|"
   ]
  },
  {
   "cell_type": "markdown",
   "metadata": {},
   "source": [
    "# <span style=\"background:orange\">Image</span><br />"
   ]
  },
  {
   "cell_type": "markdown",
   "metadata": {},
   "source": [
    "![Title](puppy.png)\n",
    "<img src=\"puppy.png\" width=\"240\" height=\"240\" align=\"right\"/>"
   ]
  },
  {
   "cell_type": "markdown",
   "metadata": {},
   "source": [
    "# <span style=\"background:orange\">Equations</span><br />"
   ]
  },
  {
   "cell_type": "markdown",
   "metadata": {},
   "source": [
    "$e^{i\\pi} + 1 = 0$\n",
    "$$e^x=\\sum_{i=0}^\\infty \\frac{1}{i!}x^i$$\n",
    "$$e^{i\\pi} + 1 = 0$$<br>\n",
    "$\\sqrt{k}$"
   ]
  },
  {
   "cell_type": "markdown",
   "metadata": {},
   "source": [
    "# <span style=\"background:orange\">Github Flavored Markdown</span><br />"
   ]
  },
  {
   "cell_type": "markdown",
   "metadata": {},
   "source": [
    "```python\n",
    "A = \"PYTHON\"\n",
    "print(A)\n",
    "for i in range(0,10):\n",
    "    print(A)\n",
    "```"
   ]
  },
  {
   "cell_type": "markdown",
   "metadata": {},
   "source": [
    "# <span style=\"background:orange\">Blockquotes, Line Break, and Horizontal line</span><br />"
   ]
  },
  {
   "cell_type": "markdown",
   "metadata": {},
   "source": [
    "> Professor says <br />\n",
    "> It's good for\n",
    "<blockquote>This is good</blockquote>\n",
    "\n",
    "> 1 Blockquotes\n",
    ">> 2 Blockquotes\n",
    ">>> 3 Blockquotes\n",
    ">>>> 4 Blockquotes\n",
    ">>>>>>>> 8 Blockquotes\n",
    "Asterisks\n",
    "***\n",
    "Underscores\n",
    "___\n",
    "hipen\n",
    "\n",
    "---\n",
    "\n",
    "\n",
    "# <center>Your centered level h1 title</center>\n",
    "<h3 align=\"center\">This is a centered header</h3>"
   ]
  },
  {
   "cell_type": "code",
   "execution_count": null,
   "metadata": {},
   "outputs": [],
   "source": []
  }
 ],
 "metadata": {
  "kernelspec": {
   "display_name": "Python 3",
   "language": "python",
   "name": "python3"
  },
  "language_info": {
   "codemirror_mode": {
    "name": "ipython",
    "version": 3
   },
   "file_extension": ".py",
   "mimetype": "text/x-python",
   "name": "python",
   "nbconvert_exporter": "python",
   "pygments_lexer": "ipython3",
   "version": "3.7.3"
  }
 },
 "nbformat": 4,
 "nbformat_minor": 2
}
