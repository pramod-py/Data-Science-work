{
 "cells": [
  {
   "cell_type": "code",
   "execution_count": 4,
   "metadata": {},
   "outputs": [
    {
     "name": "stdout",
     "output_type": "stream",
     "text": [
      "Intercept: \n",
      " 20.000000000000014\n",
      "Coefficients: \n",
      " [0.5 0.5]\n",
      "Predicted Test score: \n",
      " [102.5]\n",
      "                            OLS Regression Results                            \n",
      "==============================================================================\n",
      "Dep. Variable:             Test score   R-squared:                       0.900\n",
      "Model:                            OLS   Adj. R-squared:                  0.800\n",
      "Method:                 Least Squares   F-statistic:                     9.000\n",
      "Date:                Thu, 26 Sep 2019   Prob (F-statistic):              0.100\n",
      "Time:                        03:33:30   Log-Likelihood:                -14.584\n",
      "No. Observations:                   5   AIC:                             35.17\n",
      "Df Residuals:                       2   BIC:                             34.00\n",
      "Df Model:                           2                                         \n",
      "Covariance Type:            nonrobust                                         \n",
      "===============================================================================\n",
      "                  coef    std err          t      P>|t|      [0.025      0.975]\n",
      "-------------------------------------------------------------------------------\n",
      "const          20.0000     31.780      0.629      0.593    -116.740     156.740\n",
      "IQ              0.5000      0.373      1.342      0.312      -1.104       2.104\n",
      "Study hours     0.5000      0.373      1.342      0.312      -1.104       2.104\n",
      "==============================================================================\n",
      "Omnibus:                          nan   Durbin-Watson:                   2.500\n",
      "Prob(Omnibus):                    nan   Jarque-Bera (JB):                0.638\n",
      "Skew:                          -0.000   Prob(JB):                        0.727\n",
      "Kurtosis:                       1.250   Cond. No.                     1.04e+03\n",
      "==============================================================================\n",
      "\n",
      "Warnings:\n",
      "[1] Standard Errors assume that the covariance matrix of the errors is correctly specified.\n",
      "[2] The condition number is large, 1.04e+03. This might indicate that there are\n",
      "strong multicollinearity or other numerical problems.\n"
     ]
    },
    {
     "name": "stderr",
     "output_type": "stream",
     "text": [
      "c:\\users\\shree\\appdata\\local\\continuum\\miniconda3\\lib\\site-packages\\numpy\\core\\fromnumeric.py:2495: FutureWarning: Method .ptp is deprecated and will be removed in a future version. Use numpy.ptp instead.\n",
      "  return ptp(axis=axis, out=out, **kwargs)\n",
      "c:\\users\\shree\\appdata\\local\\continuum\\miniconda3\\lib\\site-packages\\statsmodels\\stats\\stattools.py:71: ValueWarning: omni_normtest is not valid with less than 8 observations; 5 samples were given.\n",
      "  \"samples were given.\" % int(n), ValueWarning)\n"
     ]
    },
    {
     "data": {
      "image/png": "[encoded data removed]",
      "text/plain": [
       "<Figure size 432x288 with 1 Axes>"
      ]
     },
     "metadata": {
      "needs_background": "light"
     },
     "output_type": "display_data"
    }
   ],
   "source": [
    "\n",
    "from pandas import DataFrame\n",
    "import matplotlib.pyplot as plt\n",
    "%matplotlib inline \n",
    "from sklearn import linear_model\n",
    "import statsmodels.api as sm #https://pypi.org/project/statsmodels/\n",
    "\n",
    "mlrdata = {'IQ': [110,120,100,90,80],\n",
    "           'Study hours': [40,30,20,0,10],\n",
    "            'Test score': [100,90,80,70,60]        \n",
    "          }\n",
    " \n",
    "df = DataFrame(mlrdata,columns=['IQ','Study hours','Test score'])\n",
    " \n",
    "plt.scatter(df['IQ'], df['Test score'], color='red')\n",
    "plt.title('fig 1', fontsize=14)\n",
    "plt.xlabel('IQ', fontsize=14)\n",
    "plt.ylabel('Test score', fontsize=14)\n",
    "plt.grid(True)\n",
    "#plt.show()\n",
    " \n",
    "plt.scatter(df['IQ'], df['Study hours'], color='green')\n",
    "plt.title('fig 2', fontsize=14)\n",
    "plt.xlabel('Study hours', fontsize=14)\n",
    "plt.ylabel('Test Score', fontsize=14)\n",
    "plt.grid(True)\n",
    "#plt.show()\n",
    "\n",
    "\n",
    "\n",
    "\n",
    "\n",
    "\n",
    "\n",
    "\n",
    "mlrdata ={'IQ': [110,120,100,90,80], \n",
    "          'Study hours': [40,30,20,0,10],\n",
    "          'Test score': [100,90,80,70,60]        \n",
    "         }\n",
    " \n",
    "df = DataFrame(mlrdata,columns=['IQ','Study hours','Test score'])\n",
    "\n",
    "\n",
    "X = df[['IQ','Study hours']] \n",
    "Y = df['Test score']\n",
    " \n",
    "# with sklearn\n",
    "regr = linear_model.LinearRegression()\n",
    "regr.fit(X, Y)\n",
    "\n",
    "print('Intercept: \\n', regr.intercept_)\n",
    "print('Coefficients: \\n', regr.coef_)\n",
    "\n",
    "\n",
    "# prediction with sklearn\n",
    "New_IQ = 130\n",
    "New_SH = 35\n",
    "print ('Predicted Test score: \\n', regr.predict([[New_IQ ,New_SH]]))\n",
    "\n",
    "'''\n",
    "#Linear regression models:#\n",
    "1]Ordinary least squares\n",
    "2]Generalized least squares\n",
    "3]Weighted least squares\n",
    "4]Least squares with autoregressive errors\n",
    "5]Quantile regression\n",
    "6]Recursive least squares\n",
    "https://blog.datarobot.com/ordinary-least-squares-in-python\n",
    "https://blog.datarobot.com/multiple-regression-using-statsmodels\n",
    "'''\n",
    "\n",
    "# with statsmodels\n",
    "X = sm.add_constant(X) # adding a constant\n",
    "\n",
    " \n",
    "model = sm.OLS(Y, X).fit() #Ordinary Least Squares\n",
    "predictions = model.predict(X) \n",
    " \n",
    "print_model = model.summary()\n",
    "print(print_model)\n"
   ]
  },
  {
   "cell_type": "code",
   "execution_count": null,
   "metadata": {},
   "outputs": [],
   "source": []
  }
 ],
 "metadata": {
  "kernelspec": {
   "display_name": "Python 3",
   "language": "python",
   "name": "python3"
  },
  "language_info": {
   "codemirror_mode": {
    "name": "ipython",
    "version": 3
   },
   "file_extension": ".py",
   "mimetype": "text/x-python",
   "name": "python",
   "nbconvert_exporter": "python",
   "pygments_lexer": "ipython3",
   "version": "3.7.3"
  }
 },
 "nbformat": 4,
 "nbformat_minor": 2
}
