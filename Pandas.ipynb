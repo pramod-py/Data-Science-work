{
 "cells": [
  {
   "cell_type": "code",
   "execution_count": 2,
   "metadata": {},
   "outputs": [
    {
     "name": "stdout",
     "output_type": "stream",
     "text": [
      "   Day  Visitor  Bounce_Rate\n",
      "0    1     1000           10\n",
      "1    2      700           25\n",
      "2    3      550           33\n",
      "3    4      942           42\n",
      "4    5      600           12\n"
     ]
    }
   ],
   "source": [
    "import pandas as pd\n",
    "xyz_web = {'Day':[1,2,3,4,5],'Visitor':[1000,700,550,942,600],'Bounce_Rate':[10,25,33,42,12]}\n",
    "df = pd.DataFrame(xyz_web)\n",
    "print(df)"
   ]
  },
  {
   "cell_type": "code",
   "execution_count": 16,
   "metadata": {},
   "outputs": [
    {
     "name": "stdout",
     "output_type": "stream",
     "text": [
      "   HPI  Intrest  Ind_GDP\n",
      "0   10        1       55\n",
      "1   25        2       29\n",
      "2   52        4       40\n"
     ]
    }
   ],
   "source": [
    "df1 = pd.DataFrame({'HPI':[10,25,52],'Intrest':[1,2,4],'Ind_GDP':[55,29,40]},index = [2010,2011,2012])\n",
    "df2 = pd.DataFrame({'HPI':[10,25,52],'Intrest':[1,2,4],'Ind_GDP':[55,29,40]},index = [2013,2014,2015])\n",
    "merge = pd.merge(df1,df2)#, on = 'HPI'\n",
    "print(merge)"
   ]
  },
  {
   "cell_type": "code",
   "execution_count": 30,
   "metadata": {},
   "outputs": [
    {
     "name": "stdout",
     "output_type": "stream",
     "text": [
      "      Intrest  Ind_GDP   HPI unemployment\n",
      "2010        1       55  10.0            A\n",
      "2011        2       29   NaN          NaN\n",
      "2012        4       40  25.0            B\n",
      "2012        4       40  52.0            C\n"
     ]
    }
   ],
   "source": [
    "df3 = pd.DataFrame({'Intrest':[1,2,4],'Ind_GDP':[55,29,40]},index = [2010,2011,2012])\n",
    "df4 = pd.DataFrame({'HPI':[10,25,52],'unemployment':['A','B','C']},index = [2010,2012,2012])\n",
    "joined = df3.join(df4)\n",
    "print(joined)"
   ]
  },
  {
   "cell_type": "code",
   "execution_count": 28,
   "metadata": {},
   "outputs": [
    {
     "data": {
      "text/html": [
       "<div>\n",
       "<style scoped>\n",
       "    .dataframe tbody tr th:only-of-type {\n",
       "        vertical-align: middle;\n",
       "    }\n",
       "\n",
       "    .dataframe tbody tr th {\n",
       "        vertical-align: top;\n",
       "    }\n",
       "\n",
       "    .dataframe thead th {\n",
       "        text-align: right;\n",
       "    }\n",
       "</style>\n",
       "<table border=\"1\" class=\"dataframe\">\n",
       "  <thead>\n",
       "    <tr style=\"text-align: right;\">\n",
       "      <th></th>\n",
       "      <th>HPI</th>\n",
       "    </tr>\n",
       "  </thead>\n",
       "  <tbody>\n",
       "    <tr>\n",
       "      <td>count</td>\n",
       "      <td>3.000000</td>\n",
       "    </tr>\n",
       "    <tr>\n",
       "      <td>mean</td>\n",
       "      <td>29.000000</td>\n",
       "    </tr>\n",
       "    <tr>\n",
       "      <td>std</td>\n",
       "      <td>21.283797</td>\n",
       "    </tr>\n",
       "    <tr>\n",
       "      <td>min</td>\n",
       "      <td>10.000000</td>\n",
       "    </tr>\n",
       "    <tr>\n",
       "      <td>25%</td>\n",
       "      <td>17.500000</td>\n",
       "    </tr>\n",
       "    <tr>\n",
       "      <td>50%</td>\n",
       "      <td>25.000000</td>\n",
       "    </tr>\n",
       "    <tr>\n",
       "      <td>75%</td>\n",
       "      <td>38.500000</td>\n",
       "    </tr>\n",
       "    <tr>\n",
       "      <td>max</td>\n",
       "      <td>52.000000</td>\n",
       "    </tr>\n",
       "  </tbody>\n",
       "</table>\n",
       "</div>"
      ],
      "text/plain": [
       "             HPI\n",
       "count   3.000000\n",
       "mean   29.000000\n",
       "std    21.283797\n",
       "min    10.000000\n",
       "25%    17.500000\n",
       "50%    25.000000\n",
       "75%    38.500000\n",
       "max    52.000000"
      ]
     },
     "execution_count": 28,
     "metadata": {},
     "output_type": "execute_result"
    }
   ],
   "source": [
    "df4.describe()"
   ]
  },
  {
   "cell_type": "markdown",
   "metadata": {},
   "source": [
    "TO combime to dataframe we use pd.concat()"
   ]
  },
  {
   "cell_type": "code",
   "execution_count": 33,
   "metadata": {},
   "outputs": [
    {
     "name": "stdout",
     "output_type": "stream",
     "text": [
      "      Intrest  Ind_GDP   HPI unemployment\n",
      "2010      1.0     55.0   NaN          NaN\n",
      "2011      2.0     29.0   NaN          NaN\n",
      "2012      4.0     40.0   NaN          NaN\n",
      "2010      NaN      NaN  10.0            A\n",
      "2012      NaN      NaN  25.0            B\n",
      "2012      NaN      NaN  52.0            C\n"
     ]
    }
   ],
   "source": [
    "combine = pd.concat([df3,df4])#sort = False to hide warning\n",
    "print(combine)"
   ]
  },
  {
   "cell_type": "markdown",
   "metadata": {},
   "source": [
    "To set any colun name as a index name use set_index() method\n"
   ]
  },
  {
   "cell_type": "code",
   "execution_count": 11,
   "metadata": {},
   "outputs": [
    {
     "name": "stdout",
     "output_type": "stream",
     "text": [
      "   HPI  Intrest  Year\n",
      "0   10       10  2010\n",
      "1   25       20  2011\n",
      "2   52       40  2012\n",
      "----------------------------------------\n",
      "------Now changing index as a year------\n",
      "----------------------------------------\n",
      "      HPI  Intrest\n",
      "Year              \n",
      "2010   10       10\n",
      "2011   25       20\n",
      "2012   52       40\n"
     ]
    }
   ],
   "source": [
    "df1 = pd.DataFrame({'HPI':[10,25,52],'Intrest':[10,20,40],'Year':[2010,2011,2012]} )\n",
    "print(df1)\n",
    "print('----------------------------------------')\n",
    "print('------Now changing index as a year------')\n",
    "print('----------------------------------------')\n",
    "df1.set_index('Year', inplace = True)\n",
    "\n",
    "print(df1)"
   ]
  },
  {
   "cell_type": "code",
   "execution_count": 48,
   "metadata": {},
   "outputs": [
    {
     "data": {
      "image/png": "[encoded data removed]",
      "text/plain": [
       "<Figure size 432x288 with 1 Axes>"
      ]
     },
     "metadata": {},
     "output_type": "display_data"
    },
    {
     "data": {
      "image/png": "[encoded data removed]",
      "text/plain": [
       "<Figure size 432x288 with 1 Axes>"
      ]
     },
     "metadata": {},
     "output_type": "display_data"
    }
   ],
   "source": [
    "import matplotlib.pyplot as plt\n",
    "from matplotlib import style\n",
    "%matplotlib inline \n",
    "style.use(\"fivethirtyeight\")\n",
    "df1.plot()# kind = \"bar\" to specify which kind of graph you required by default linegraph\n",
    "df1.plot(kind = \"bar\")\n",
    "plt.show()"
   ]
  },
  {
   "cell_type": "code",
   "execution_count": 26,
   "metadata": {},
   "outputs": [
    {
     "name": "stdout",
     "output_type": "stream",
     "text": [
      "['bmh', 'classic', 'dark_background', 'fast', 'fivethirtyeight', 'ggplot', 'grayscale', 'seaborn-bright', 'seaborn-colorblind', 'seaborn-dark-palette', 'seaborn-dark', 'seaborn-darkgrid', 'seaborn-deep', 'seaborn-muted', 'seaborn-notebook', 'seaborn-paper', 'seaborn-pastel', 'seaborn-poster', 'seaborn-talk', 'seaborn-ticks', 'seaborn-white', 'seaborn-whitegrid', 'seaborn', 'Solarize_Light2', 'tableau-colorblind10', '_classic_test']\n",
      "['c:\\\\users\\\\shree\\\\appdata\\\\local\\\\continuum\\\\miniconda3\\\\lib\\\\site-packages\\\\matplotlib\\\\style']\n"
     ]
    }
   ],
   "source": [
    "print(plt.style.available)\n",
    "print(plt.style.__path__)"
   ]
  },
  {
   "cell_type": "markdown",
   "metadata": {},
   "source": [
    "If want to change column name use rename method.\n",
    "Here we are going to change column :HPI to REPO"
   ]
  },
  {
   "cell_type": "code",
   "execution_count": 27,
   "metadata": {},
   "outputs": [
    {
     "name": "stdout",
     "output_type": "stream",
     "text": [
      "      REPO  Intrest\n",
      "Year               \n",
      "2010    10       10\n",
      "2011    25       20\n",
      "2012    52       40\n"
     ]
    }
   ],
   "source": [
    "df1 = df1.rename(columns = {'HPI':'REPO'})\n",
    "print(df1)"
   ]
  },
  {
   "cell_type": "code",
   "execution_count": 43,
   "metadata": {},
   "outputs": [],
   "source": [
    "#ex = pd.read_excel(\"C:\\\\Users\\\\ShreE\\\\Desktop\\\\data\\\\MyFile.xlsx\", index_col = 0)\n",
    "#ex.to_html(\"C:\\\\Users\\\\ShreE\\\\Desktop\\\\data\\\\MyHTML.html\")\n",
    "#print(ex)\n",
    "\n",
    "#pip or conda to install xlrd"
   ]
  },
  {
   "cell_type": "code",
   "execution_count": 98,
   "metadata": {},
   "outputs": [
    {
     "name": "stdout",
     "output_type": "stream",
     "text": [
      "  County Name      2017  2018  2019\n",
      "0       India  0.387072    38    59\n",
      "1  Afganistan  0.312099     5    27\n",
      "2       India  0.052827    28     5\n",
      "3   Indonesia  0.688904    70    61\n",
      "4   Indonesia  0.612114    10    31\n"
     ]
    }
   ],
   "source": [
    "import pandas as pd\n",
    "import numpy as np\n",
    "#list = {'India':'IND','South Africa':'SA',\"Afganistan\":'AFG',\"Sri Lanka\":'SL','Pakistan':'PAK','Indonesia':'INDO'}\n",
    "#list2 = ['Ind','SA','AFG','SL','Pak','Indo']\n",
    "list = ['India','South Africa' ,\"Afganistan\",\"Sri Lanka\" ,'Pakistan' ,'Indonesia']\n",
    "\n",
    "dict = {'County Name':np.random.choice(list,size = 50),\n",
    "        # 'C_Code':np.random.choice(list,size = 50),\n",
    "         '2017':np.random.random(size = 50),\n",
    "        '2018':np.random.randint(1,80,size = 50),\n",
    "        '2019':np.random.randint(1,80,size = 50)\n",
    "       }\n",
    "df=pd.DataFrame(dict)\n",
    "\n",
    "\n",
    "#my_ind=range(1,50)\n",
    "#df.set_index(columns= ['my_ind'])\n",
    "file = df.to_csv(\"C:\\\\Users\\\\ShreE\\\\Downloads\\\\Job.csv\",sep=\",\",index=False,encoding='utf-8')\n",
    "\n",
    "\n"
   ]
  },
  {
   "cell_type": "code",
   "execution_count": 108,
   "metadata": {},
   "outputs": [
    {
     "name": "stdout",
     "output_type": "stream",
     "text": [
      "                 2017  2018  2019\n",
      "County Name                      \n",
      "India        0.387072    50    25\n",
      "Afganistan   0.312099    66    26\n",
      "India        0.052827    28    13\n",
      "Indonesia    0.688904    70    50\n",
      "Indonesia    0.612114    40    31\n",
      "             2019  2018\n",
      "County Name            \n",
      "India          25    50\n",
      "Afganistan     26    66\n",
      "India          13    28\n",
      "Indonesia      50    70\n",
      "Indonesia      31    40\n"
     ]
    },
    {
     "data": {
      "image/png": "[encoded data removed]",
      "text/plain": [
       "<Figure size 432x288 with 1 Axes>"
      ]
     },
     "metadata": {},
     "output_type": "display_data"
    }
   ],
   "source": [
    "read_file = pd.read_csv(\"C:\\\\Users\\\\ShreE\\\\Downloads\\\\Job.csv\", index_col = 0)\n",
    "print(read_file.head(5))\n",
    "data = read_file.head(5)\n",
    "\n",
    "sd = data.reindex(columns = [\"2019\",'2018'])\n",
    "print(sd)\n",
    "db = sd.diff(axis = 1)\n",
    "db.plot()\n",
    "plt.show()"
   ]
  },
  {
   "cell_type": "markdown",
   "metadata": {},
   "source": [
    "plt.hist([boys,girls],bins=[20,40,60,80,100],rwidth=0.95,label=[\"Boys\",\"Girls\"],color=[\"green\",\"purple\"])#hist(x, bins, range, density, weights, cumulative, bottom, histtype, align, \n",
    "#orientation, rwidth, log, color, label, stacked, normed, data, **kwargs)\n",
    "plt.legend()\n",
    "plt.xlabel(\"Mark Rang\")\n",
    "plt.ylabel(\"Number of Students\")\n",
    "plt.title(\"Boys and Girls Mark Comparision \")\n",
    "plt.show()"
   ]
  },
  {
   "cell_type": "code",
   "execution_count": null,
   "metadata": {},
   "outputs": [],
   "source": []
  }
 ],
 "metadata": {
  "kernelspec": {
   "display_name": "Python 3",
   "language": "python",
   "name": "python3"
  },
  "language_info": {
   "codemirror_mode": {
    "name": "ipython",
    "version": 3
   },
   "file_extension": ".py",
   "mimetype": "text/x-python",
   "name": "python",
   "nbconvert_exporter": "python",
   "pygments_lexer": "ipython3",
   "version": "3.7.3"
  }
 },
 "nbformat": 4,
 "nbformat_minor": 2
}
