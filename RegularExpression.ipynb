{
 "cells": [
  {
   "cell_type": "markdown",
   "metadata": {},
   "source": [
    "# Metacharacters\n",
    "Metacharacters are characters with a special meaning:\n",
    "[]\tA set of characters\t\"[a-m]\"\t\n",
    "\\\tSignals a special sequence (can also be used to escape special characters)\t\"\\d\"\t\n",
    ".\tAny character (except newline character)\t\"he..o\"\t\n",
    "^\tStarts with\t\"^hello\"\t\n",
    "$\tEnds with\t\"world$\"\t\n",
    "*\tZero or more occurrences\t\"aix*\"\t\n",
    "+\tOne or more occurrences\t\"aix+\"\t\n",
    "{}\tExactly the specified number of occurrences\t\"al{2}\"\t\n",
    "|\tEither or\t\"falls|stays\"\t\n",
    "()\tCapture and group"
   ]
  },
  {
   "cell_type": "code",
   "execution_count": 38,
   "metadata": {},
   "outputs": [
    {
     "name": "stdout",
     "output_type": "stream",
     "text": [
      "['e', 'c', 'e', 'h', 'g', 'a', 'g']\n"
     ]
    }
   ],
   "source": [
    "#Find all lower case characters alphabetically between \"a\" and \"h\":\n",
    "# []---->A set of characters [a-m]\n",
    "import re\n",
    "str=\"Welcome to Python Programming\"\n",
    "x = re.findall(\"[a-h]\", str)\n",
    "print(x)"
   ]
  },
  {
   "cell_type": "code",
   "execution_count": 77,
   "metadata": {},
   "outputs": [
    {
     "name": "stdout",
     "output_type": "stream",
     "text": [
      "------------------\\d-----------------\n",
      "x:  ['5', '9', '1', '2', '3']\n",
      "\n",
      "------------\\D-----------------------\n",
      "y:  ['T', 'h', 'a', 't', ' ', 'w', 'i', 'l', 'l', ' ', 'b', 'e', ' ', ' ', 'R', 'u', 'p', 'e', 'e', 's', ' ', 'p', 'a', 'n', 'd', \"'\", 's', ' ', 'a', 'b', 'c']\n",
      "\n",
      "---------------[0-9]--------------------\n",
      "['5', '9', '1', '2', '3']\n",
      "\n",
      "---------------[^0-9]--------------------\n",
      "['T', 'h', 'a', 't', ' ', 'w', 'i', 'l', 'l', ' ', 'b', 'e', ' ', ' ', 'R', 'u', 'p', 'e', 'e', 's', ' ', 'p', 'a', 'n', 'd', \"'\", 's', ' ', 'a', 'b', 'c']\n",
      "\n",
      "---------------\\s--------------------\n",
      "[' ', ' ', ' ', ' ', ' ', ' ']\n",
      "\n",
      "---------------\\w+--------------------\n",
      "['That', 'will', 'be', '59', 'Rupees', 'pand', 's', 'abc123']\n",
      "\n"
     ]
    }
   ],
   "source": [
    "#\\---->Signals a special sequence (can also be used to escape special characters) \n",
    "#\\d---->Find all digit characters:\n",
    "str = \"That will be 59 Rupees pand's abc123\"\n",
    "\n",
    "print(\"------------------\\d-----------------\") \n",
    "x=re.findall(\"\\d\",str)\n",
    "print('x: ',x);print()\n",
    "\n",
    "print(\"------------\\D-----------------------\") \n",
    "y=re.findall(\"\\D\",str)\n",
    "print(\"y: \",y);print()\n",
    "\n",
    "print(\"---------------[0-9]--------------------\") \n",
    "print(re.findall(\"[0-9]\",str));print()\n",
    "\n",
    "print(\"---------------[^0-9]--------------------\")\n",
    "print(re.findall(\"[^0-9]\",str));print()\n",
    "\n",
    "print(\"---------------\\s--------------------\") \n",
    "print(re.findall(\"\\s\",str));print()\n",
    "print(\"---------------\\w+--------------------\") \n",
    "print(re.findall(r\"\\w+\",str));print()"
   ]
  },
  {
   "cell_type": "markdown",
   "metadata": {},
   "source": [
    "# Special Sequences\n",
    "A special sequence is a \\ followed by one of the characters in the list below, and has a special meaning:\n",
    "\\d :Matches any decimal digit; this is equivalent to the class [0-9].\n",
    "\n",
    "\\D :Matches any non-digit character; this is equivalent to the class [^0-9].\n",
    "\n",
    "\\s :Matches any whitespace character; this is equivalent to the class [ \\t\\n\\r\\f\\v].\n",
    "\n",
    "\\S :Matches any non-whitespace character; this is equivalent to the class [^ \\t\\n\\r\\f\\v].\n",
    "\n",
    "\\w :Matches any alphanumeric character; this is equivalent to the class [a-zA-Z0-9_].\n",
    "\n",
    "\\W :Matches any non-alphanumeric character; this is equivalent to the class [^a-zA-Z0-9_]."
   ]
  },
  {
   "cell_type": "code",
   "execution_count": 30,
   "metadata": {},
   "outputs": [
    {
     "name": "stdout",
     "output_type": "stream",
     "text": [
      "hello world he2o \n",
      " Hello im newline word hello\n",
      "['hello', 'hello']\n"
     ]
    }
   ],
   "source": [
    "#.----->Any character (except newline character) {dot}\n",
    "#Search for a sequence that starts with \"he\", followed by two (any) characters, and an \"o\":\n",
    "str = \"hello world he2o \\n Hello im newline word hello\"\n",
    "print(str)\n",
    "x=re.findall(\"he..o\",str)\n",
    "print(x)"
   ]
  },
  {
   "cell_type": "code",
   "execution_count": 35,
   "metadata": {},
   "outputs": [
    {
     "name": "stdout",
     "output_type": "stream",
     "text": [
      "x:  ['hello']\n",
      "y:  []\n",
      "Yes, the string starts with 'hello'\n"
     ]
    }
   ],
   "source": [
    "#^ ---->Starts with(Cap)\n",
    "\n",
    "str = \"hello world\"\n",
    "str2 = \"Hi hello world\"\n",
    "\n",
    "x = re.findall(\"^hello\", str)#Check if the string starts with 'hello':\n",
    "print(\"x: \",x)\n",
    "\n",
    "y=re.findall(\"^hello\",str2)#Check if the string starts with 'hello':\n",
    "print(\"y: \",y)\n",
    "if (x):\n",
    "  print(\"Yes, the string starts with 'hello'\")\n",
    "else:\n",
    "  print(\"No match\")"
   ]
  },
  {
   "cell_type": "code",
   "execution_count": 78,
   "metadata": {},
   "outputs": [
    {
     "name": "stdout",
     "output_type": "stream",
     "text": [
      "x:  ['world']\n",
      "Yes, the string ends with 'world'\n",
      "-----------\\Z-------------\n",
      "['world']\n"
     ]
    }
   ],
   "source": [
    "#$----->Ends with(Dollar)    OR '\\Z'\n",
    "\n",
    "str = \"hello world\"\n",
    "\n",
    "x = re.findall(\"world$\", str) #Check if the string ends with 'world':\n",
    "print(\"x: \",x)\n",
    "if (x):\n",
    "  print(\"Yes, the string ends with 'world'\")\n",
    "else:\n",
    "  print(\"No match\")\n",
    "\n",
    "print(\"-----------\\Z-------------\")\n",
    "print(re.findall(\"world\\Z\", str))"
   ]
  },
  {
   "cell_type": "code",
   "execution_count": 49,
   "metadata": {},
   "outputs": [
    {
     "name": "stdout",
     "output_type": "stream",
     "text": [
      "x:  ['ai', 'ai', 'ai', 'ai']\n",
      "Yes, there is at least one match!\n",
      "------------------------------\n",
      "y:  ['py', 'py', 'p', 'p']\n"
     ]
    }
   ],
   "source": [
    "#*---->Zero or more occurrences\t(Star)\n",
    "str = \"The rain in Spain falls mainly in the plain!\"\n",
    "\n",
    "x = re.findall(\"aix*\", str)#Check if the string contains \"ai\" followed by 0 or more \"x\" characters:\n",
    "\n",
    "print(\"x: \",x)\n",
    "\n",
    "if (x):\n",
    "  print(\"Yes, there is at least one match!\")\n",
    "else:\n",
    "  print(\"No match\")\n",
    "print(\"------------------------------\")\n",
    " \n",
    "y=re.findall(\"py*\",\"python is easy lagnguage, so i like it, python is very popular now...!\")\n",
    "print(\"y: \",y)"
   ]
  },
  {
   "cell_type": "code",
   "execution_count": 51,
   "metadata": {},
   "outputs": [
    {
     "name": "stdout",
     "output_type": "stream",
     "text": [
      "X:  []\n",
      "No match\n",
      "------------------------------\n",
      "y:  ['py', 'py']\n"
     ]
    }
   ],
   "source": [
    "#+----->One or more occurrences(Pluse)\n",
    "str = \"The rain in Spain falls mainly in the plain!\"\n",
    "\n",
    "x = re.findall(\"aix+\", str)#Check if the string contains \"ai\" followed by 1 or more \"x\" characters:\n",
    "print(\"X: \",x)\n",
    "\n",
    "if (x):\n",
    "  print(\"Yes, there is at least one match!\")\n",
    "else:\n",
    "  print(\"No match\")\n",
    "print(\"------------------------------\")\n",
    " \n",
    "y=re.findall(\"py+\",\"python is easy lagnguage, so i like it, python is very popular now...!\")\n",
    "#check if the string contains \"p\" followed by 1 or more \"y\" character: \n",
    "print(\"y: \",y)"
   ]
  },
  {
   "cell_type": "code",
   "execution_count": 53,
   "metadata": {},
   "outputs": [
    {
     "name": "stdout",
     "output_type": "stream",
     "text": [
      "x:  ['all']\n",
      "Yes, there is at least one match!\n"
     ]
    }
   ],
   "source": [
    "#{}----->Exactly the specified number of occurrences\n",
    "\n",
    "str = \"The rain in Spain falls mainly in the plain!\"\n",
    "\n",
    "#Check if the string contains \"a\" followed by exactly two \"l\" characters: falls\n",
    "\n",
    "x = re.findall(\"al{2}\", str)\n",
    "\n",
    "print(\"x: \",x)\n",
    "\n",
    "if (x):\n",
    "  print(\"Yes, there is at least one match!\")\n",
    "else:\n",
    "  print(\"No match\")"
   ]
  },
  {
   "cell_type": "code",
   "execution_count": 57,
   "metadata": {},
   "outputs": [
    {
     "name": "stdout",
     "output_type": "stream",
     "text": [
      "['falls', 'plain']\n",
      "Yes, there is at least one match!\n"
     ]
    }
   ],
   "source": [
    "#|------>Either or\n",
    "str = \"The rain in Spain falls mainly in the plain!\"\n",
    "\n",
    "#Check if the string contains either \"falls\" or \"stays\" or \"plain\":\n",
    "\n",
    "x = re.findall(\"falls|stays|plain\", str)\n",
    "\n",
    "print(x)\n",
    "\n",
    "if (x):\n",
    "  print(\"Yes, there is at least one match!\")\n",
    "else:\n",
    "  print(\"No match\")"
   ]
  },
  {
   "cell_type": "markdown",
   "metadata": {},
   "source": [
    "# Sets\n",
    "A set is a set of characters inside a pair of square brackets [] with a special meaning:\n",
    "\n",
    "[arn]\tReturns a match where one of the specified characters (a, r, or n) are present\t\n",
    "[a-n]\tReturns a match for any lower case character, alphabetically between a and n\t\n",
    "[^arn]\tReturns a match for any character EXCEPT a, r, and n\t\n",
    "[0123]\tReturns a match where any of the specified digits (0, 1, 2, or 3) are present\t\n",
    "[0-9]\tReturns a match for any digit between 0 and 9\t\n",
    "[0-5][0-9]\tReturns a match for any two-digit numbers from 00 and 59\t\n",
    "[a-zA-Z]\tReturns a match for any character alphabetically between a and z, lower case OR upper case\t\n",
    "[+]\tIn sets, +, *, ., |, (), $,{} has no special meaning, so [+] means: return a match for any + character in the string"
   ]
  }
 ],
 "metadata": {
  "kernelspec": {
   "display_name": "Python 3",
   "language": "python",
   "name": "python3"
  },
  "language_info": {
   "codemirror_mode": {
    "name": "ipython",
    "version": 3
   },
   "file_extension": ".py",
   "mimetype": "text/x-python",
   "name": "python",
   "nbconvert_exporter": "python",
   "pygments_lexer": "ipython3",
   "version": "3.7.3"
  }
 },
 "nbformat": 4,
 "nbformat_minor": 2
}
